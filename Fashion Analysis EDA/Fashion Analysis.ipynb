{
 "cells": [
  {
   "cell_type": "code",
   "execution_count": 2,
   "id": "0be38be0",
   "metadata": {},
   "outputs": [],
   "source": [
    "import numpy as np\n",
    "import pandas as pd\n",
    "import matplotlib.pyplot as plt\n",
    "import seaborn as sns"
   ]
  },
  {
   "cell_type": "code",
   "execution_count": 3,
   "id": "47171fde",
   "metadata": {},
   "outputs": [],
   "source": [
    "data=pd.read_csv('FashionDataset.csv')"
   ]
  },
  {
   "cell_type": "code",
   "execution_count": 4,
   "id": "4d65f0b1",
   "metadata": {},
   "outputs": [
    {
     "data": {
      "text/plain": [
       "pandas.core.frame.DataFrame"
      ]
     },
     "execution_count": 4,
     "metadata": {},
     "output_type": "execute_result"
    }
   ],
   "source": [
    "type(data)"
   ]
  },
  {
   "cell_type": "markdown",
   "id": "32067a48",
   "metadata": {},
   "source": [
    "### dataframe is a form of data divided into rows and columns"
   ]
  },
  {
   "cell_type": "code",
   "execution_count": 5,
   "id": "cc5c35f3",
   "metadata": {},
   "outputs": [
    {
     "data": {
      "text/html": [
       "<div>\n",
       "<style scoped>\n",
       "    .dataframe tbody tr th:only-of-type {\n",
       "        vertical-align: middle;\n",
       "    }\n",
       "\n",
       "    .dataframe tbody tr th {\n",
       "        vertical-align: top;\n",
       "    }\n",
       "\n",
       "    .dataframe thead th {\n",
       "        text-align: right;\n",
       "    }\n",
       "</style>\n",
       "<table border=\"1\" class=\"dataframe\">\n",
       "  <thead>\n",
       "    <tr style=\"text-align: right;\">\n",
       "      <th></th>\n",
       "      <th>Unnamed: 0</th>\n",
       "      <th>BrandName</th>\n",
       "      <th>Deatils</th>\n",
       "      <th>Sizes</th>\n",
       "      <th>MRP</th>\n",
       "      <th>SellPrice</th>\n",
       "      <th>Discount</th>\n",
       "      <th>Category</th>\n",
       "    </tr>\n",
       "  </thead>\n",
       "  <tbody>\n",
       "    <tr>\n",
       "      <th>0</th>\n",
       "      <td>0</td>\n",
       "      <td>life</td>\n",
       "      <td>solid cotton blend collar neck womens a-line d...</td>\n",
       "      <td>Size:Large,Medium,Small,X-Large,X-Small</td>\n",
       "      <td>Rs\\n1699</td>\n",
       "      <td>849</td>\n",
       "      <td>50% off</td>\n",
       "      <td>Westernwear-Women</td>\n",
       "    </tr>\n",
       "    <tr>\n",
       "      <th>1</th>\n",
       "      <td>1</td>\n",
       "      <td>only</td>\n",
       "      <td>polyester peter pan collar womens blouson dres...</td>\n",
       "      <td>Size:34,36,38,40</td>\n",
       "      <td>Rs\\n3499</td>\n",
       "      <td>2449</td>\n",
       "      <td>30% off</td>\n",
       "      <td>Westernwear-Women</td>\n",
       "    </tr>\n",
       "    <tr>\n",
       "      <th>2</th>\n",
       "      <td>2</td>\n",
       "      <td>fratini</td>\n",
       "      <td>solid polyester blend wide neck womens regular...</td>\n",
       "      <td>Size:Large,X-Large,XX-Large</td>\n",
       "      <td>Rs\\n1199</td>\n",
       "      <td>599</td>\n",
       "      <td>50% off</td>\n",
       "      <td>Westernwear-Women</td>\n",
       "    </tr>\n",
       "    <tr>\n",
       "      <th>3</th>\n",
       "      <td>3</td>\n",
       "      <td>zink london</td>\n",
       "      <td>stripes polyester sweetheart neck womens dress...</td>\n",
       "      <td>Size:Large,Medium,Small,X-Large</td>\n",
       "      <td>Rs\\n2299</td>\n",
       "      <td>1379</td>\n",
       "      <td>40% off</td>\n",
       "      <td>Westernwear-Women</td>\n",
       "    </tr>\n",
       "    <tr>\n",
       "      <th>4</th>\n",
       "      <td>4</td>\n",
       "      <td>life</td>\n",
       "      <td>regular fit regular length denim womens jeans ...</td>\n",
       "      <td>Size:26,28,30,32,34,36</td>\n",
       "      <td>Rs\\n1699</td>\n",
       "      <td>849</td>\n",
       "      <td>50% off</td>\n",
       "      <td>Westernwear-Women</td>\n",
       "    </tr>\n",
       "  </tbody>\n",
       "</table>\n",
       "</div>"
      ],
      "text/plain": [
       "   Unnamed: 0    BrandName                                            Deatils  \\\n",
       "0           0         life  solid cotton blend collar neck womens a-line d...   \n",
       "1           1         only  polyester peter pan collar womens blouson dres...   \n",
       "2           2      fratini  solid polyester blend wide neck womens regular...   \n",
       "3           3  zink london  stripes polyester sweetheart neck womens dress...   \n",
       "4           4         life  regular fit regular length denim womens jeans ...   \n",
       "\n",
       "                                     Sizes       MRP SellPrice Discount  \\\n",
       "0  Size:Large,Medium,Small,X-Large,X-Small  Rs\\n1699       849  50% off   \n",
       "1                         Size:34,36,38,40  Rs\\n3499      2449  30% off   \n",
       "2              Size:Large,X-Large,XX-Large  Rs\\n1199       599  50% off   \n",
       "3          Size:Large,Medium,Small,X-Large  Rs\\n2299      1379  40% off   \n",
       "4                   Size:26,28,30,32,34,36  Rs\\n1699       849  50% off   \n",
       "\n",
       "            Category  \n",
       "0  Westernwear-Women  \n",
       "1  Westernwear-Women  \n",
       "2  Westernwear-Women  \n",
       "3  Westernwear-Women  \n",
       "4  Westernwear-Women  "
      ]
     },
     "execution_count": 5,
     "metadata": {},
     "output_type": "execute_result"
    }
   ],
   "source": [
    "#first five rows\n",
    "data.head()"
   ]
  },
  {
   "cell_type": "code",
   "execution_count": 6,
   "id": "355fc24f",
   "metadata": {},
   "outputs": [
    {
     "data": {
      "text/html": [
       "<div>\n",
       "<style scoped>\n",
       "    .dataframe tbody tr th:only-of-type {\n",
       "        vertical-align: middle;\n",
       "    }\n",
       "\n",
       "    .dataframe tbody tr th {\n",
       "        vertical-align: top;\n",
       "    }\n",
       "\n",
       "    .dataframe thead th {\n",
       "        text-align: right;\n",
       "    }\n",
       "</style>\n",
       "<table border=\"1\" class=\"dataframe\">\n",
       "  <thead>\n",
       "    <tr style=\"text-align: right;\">\n",
       "      <th></th>\n",
       "      <th>Unnamed: 0</th>\n",
       "      <th>BrandName</th>\n",
       "      <th>Deatils</th>\n",
       "      <th>Sizes</th>\n",
       "      <th>MRP</th>\n",
       "      <th>SellPrice</th>\n",
       "      <th>Discount</th>\n",
       "      <th>Category</th>\n",
       "    </tr>\n",
       "  </thead>\n",
       "  <tbody>\n",
       "    <tr>\n",
       "      <th>30753</th>\n",
       "      <td>21</td>\n",
       "      <td>swarovski</td>\n",
       "      <td>crystal stylish womens rodhium earrings</td>\n",
       "      <td>Nan</td>\n",
       "      <td>Nan</td>\n",
       "      <td>8950</td>\n",
       "      <td>Nan</td>\n",
       "      <td>Jewellery-Women</td>\n",
       "    </tr>\n",
       "    <tr>\n",
       "      <th>30754</th>\n",
       "      <td>22</td>\n",
       "      <td>Nan</td>\n",
       "      <td>Nan</td>\n",
       "      <td>Nan</td>\n",
       "      <td>Nan</td>\n",
       "      <td>Nan</td>\n",
       "      <td>Nan</td>\n",
       "      <td>Jewellery-Women</td>\n",
       "    </tr>\n",
       "    <tr>\n",
       "      <th>30755</th>\n",
       "      <td>23</td>\n",
       "      <td>jewelz</td>\n",
       "      <td>ethnic gold plated jhumki earrings</td>\n",
       "      <td>Nan</td>\n",
       "      <td>Rs\\n1839</td>\n",
       "      <td>643</td>\n",
       "      <td>65% off</td>\n",
       "      <td>Jewellery-Women</td>\n",
       "    </tr>\n",
       "    <tr>\n",
       "      <th>30756</th>\n",
       "      <td>24</td>\n",
       "      <td>estelle</td>\n",
       "      <td>womens gold plated double line fancy white and...</td>\n",
       "      <td>Nan</td>\n",
       "      <td>Nan</td>\n",
       "      <td>2799</td>\n",
       "      <td>Nan</td>\n",
       "      <td>Jewellery-Women</td>\n",
       "    </tr>\n",
       "    <tr>\n",
       "      <th>30757</th>\n",
       "      <td>25</td>\n",
       "      <td>estelle</td>\n",
       "      <td>womens gold plated bridge designer mangalsutra...</td>\n",
       "      <td>Nan</td>\n",
       "      <td>Nan</td>\n",
       "      <td>1899</td>\n",
       "      <td>Nan</td>\n",
       "      <td>Jewellery-Women</td>\n",
       "    </tr>\n",
       "  </tbody>\n",
       "</table>\n",
       "</div>"
      ],
      "text/plain": [
       "       Unnamed: 0  BrandName  \\\n",
       "30753          21  swarovski   \n",
       "30754          22        Nan   \n",
       "30755          23     jewelz   \n",
       "30756          24    estelle   \n",
       "30757          25    estelle   \n",
       "\n",
       "                                                 Deatils Sizes       MRP  \\\n",
       "30753            crystal stylish womens rodhium earrings   Nan       Nan   \n",
       "30754                                                Nan   Nan       Nan   \n",
       "30755                 ethnic gold plated jhumki earrings   Nan  Rs\\n1839   \n",
       "30756  womens gold plated double line fancy white and...   Nan       Nan   \n",
       "30757  womens gold plated bridge designer mangalsutra...   Nan       Nan   \n",
       "\n",
       "      SellPrice Discount         Category  \n",
       "30753      8950      Nan  Jewellery-Women  \n",
       "30754       Nan      Nan  Jewellery-Women  \n",
       "30755       643  65% off  Jewellery-Women  \n",
       "30756      2799      Nan  Jewellery-Women  \n",
       "30757      1899      Nan  Jewellery-Women  "
      ]
     },
     "execution_count": 6,
     "metadata": {},
     "output_type": "execute_result"
    }
   ],
   "source": [
    "#last 5 rows\n",
    "data.tail()"
   ]
  },
  {
   "cell_type": "code",
   "execution_count": 7,
   "id": "c46d352e",
   "metadata": {},
   "outputs": [
    {
     "data": {
      "text/html": [
       "<div>\n",
       "<style scoped>\n",
       "    .dataframe tbody tr th:only-of-type {\n",
       "        vertical-align: middle;\n",
       "    }\n",
       "\n",
       "    .dataframe tbody tr th {\n",
       "        vertical-align: top;\n",
       "    }\n",
       "\n",
       "    .dataframe thead th {\n",
       "        text-align: right;\n",
       "    }\n",
       "</style>\n",
       "<table border=\"1\" class=\"dataframe\">\n",
       "  <thead>\n",
       "    <tr style=\"text-align: right;\">\n",
       "      <th></th>\n",
       "      <th>Unnamed: 0</th>\n",
       "      <th>BrandName</th>\n",
       "      <th>Deatils</th>\n",
       "      <th>Sizes</th>\n",
       "      <th>MRP</th>\n",
       "      <th>SellPrice</th>\n",
       "      <th>Discount</th>\n",
       "      <th>Category</th>\n",
       "    </tr>\n",
       "  </thead>\n",
       "  <tbody>\n",
       "    <tr>\n",
       "      <th>30738</th>\n",
       "      <td>6</td>\n",
       "      <td>belleziya</td>\n",
       "      <td>combo pack set of 9 gold earrings and set of 3...</td>\n",
       "      <td>Nan</td>\n",
       "      <td>Nan</td>\n",
       "      <td>1699</td>\n",
       "      <td>Nan</td>\n",
       "      <td>Jewellery-Women</td>\n",
       "    </tr>\n",
       "    <tr>\n",
       "      <th>30739</th>\n",
       "      <td>7</td>\n",
       "      <td>clara</td>\n",
       "      <td>925 silver real pearl aki pendant with chain n...</td>\n",
       "      <td>Nan</td>\n",
       "      <td>Rs\\n2199</td>\n",
       "      <td>2089</td>\n",
       "      <td>5% off</td>\n",
       "      <td>Jewellery-Women</td>\n",
       "    </tr>\n",
       "    <tr>\n",
       "      <th>30740</th>\n",
       "      <td>8</td>\n",
       "      <td>ayesha</td>\n",
       "      <td>womens metallic silver double drop with black ...</td>\n",
       "      <td>Nan</td>\n",
       "      <td>Rs\\n298</td>\n",
       "      <td>149</td>\n",
       "      <td>50% off</td>\n",
       "      <td>Jewellery-Women</td>\n",
       "    </tr>\n",
       "    <tr>\n",
       "      <th>30741</th>\n",
       "      <td>9</td>\n",
       "      <td>clara</td>\n",
       "      <td>womens 925 sterling silver poppy mangalsutra t...</td>\n",
       "      <td>Nan</td>\n",
       "      <td>Rs\\n2699</td>\n",
       "      <td>2564</td>\n",
       "      <td>5% off</td>\n",
       "      <td>Jewellery-Women</td>\n",
       "    </tr>\n",
       "    <tr>\n",
       "      <th>30742</th>\n",
       "      <td>10</td>\n",
       "      <td>fossil</td>\n",
       "      <td>vintage motifs multicolor bracelet - jf02854998</td>\n",
       "      <td>Nan</td>\n",
       "      <td>Nan</td>\n",
       "      <td>4195</td>\n",
       "      <td>Nan</td>\n",
       "      <td>Jewellery-Women</td>\n",
       "    </tr>\n",
       "    <tr>\n",
       "      <th>30743</th>\n",
       "      <td>11</td>\n",
       "      <td>giva</td>\n",
       "      <td>cubic zirconia silver push back clasp womens e...</td>\n",
       "      <td>Nan</td>\n",
       "      <td>Rs\\n1699</td>\n",
       "      <td>1614</td>\n",
       "      <td>5% off</td>\n",
       "      <td>Jewellery-Women</td>\n",
       "    </tr>\n",
       "    <tr>\n",
       "      <th>30744</th>\n",
       "      <td>12</td>\n",
       "      <td>pretty women</td>\n",
       "      <td>womens jad/pearl golden chain - yellow</td>\n",
       "      <td>Nan</td>\n",
       "      <td>Rs\\n499</td>\n",
       "      <td>424</td>\n",
       "      <td>15% off</td>\n",
       "      <td>Jewellery-Women</td>\n",
       "    </tr>\n",
       "    <tr>\n",
       "      <th>30745</th>\n",
       "      <td>13</td>\n",
       "      <td>estelle</td>\n",
       "      <td>womens candy bracelet with white american diam...</td>\n",
       "      <td>Nan</td>\n",
       "      <td>Nan</td>\n",
       "      <td>1299</td>\n",
       "      <td>Nan</td>\n",
       "      <td>Jewellery-Women</td>\n",
       "    </tr>\n",
       "    <tr>\n",
       "      <th>30746</th>\n",
       "      <td>14</td>\n",
       "      <td>jewelz</td>\n",
       "      <td>beautiful white crystal silver plated earrings</td>\n",
       "      <td>Nan</td>\n",
       "      <td>Rs\\n1739</td>\n",
       "      <td>608</td>\n",
       "      <td>65% off</td>\n",
       "      <td>Jewellery-Women</td>\n",
       "    </tr>\n",
       "    <tr>\n",
       "      <th>30747</th>\n",
       "      <td>15</td>\n",
       "      <td>ayesha</td>\n",
       "      <td>womens metallic gold statement multilayered ch...</td>\n",
       "      <td>Nan</td>\n",
       "      <td>Rs\\n798</td>\n",
       "      <td>399</td>\n",
       "      <td>50% off</td>\n",
       "      <td>Jewellery-Women</td>\n",
       "    </tr>\n",
       "    <tr>\n",
       "      <th>30748</th>\n",
       "      <td>16</td>\n",
       "      <td>jewelz</td>\n",
       "      <td>nine pieces combo fashion non-precious metal b...</td>\n",
       "      <td>Nan</td>\n",
       "      <td>Rs\\n1339</td>\n",
       "      <td>468</td>\n",
       "      <td>65% off</td>\n",
       "      <td>Jewellery-Women</td>\n",
       "    </tr>\n",
       "    <tr>\n",
       "      <th>30749</th>\n",
       "      <td>17</td>\n",
       "      <td>pretty women</td>\n",
       "      <td>womens pearl golden drops</td>\n",
       "      <td>Nan</td>\n",
       "      <td>Rs\\n449</td>\n",
       "      <td>381</td>\n",
       "      <td>15% off</td>\n",
       "      <td>Jewellery-Women</td>\n",
       "    </tr>\n",
       "    <tr>\n",
       "      <th>30750</th>\n",
       "      <td>18</td>\n",
       "      <td>tribe amrapali</td>\n",
       "      <td>sterling silver oval turquoise ear studs</td>\n",
       "      <td>Nan</td>\n",
       "      <td>Nan</td>\n",
       "      <td>1030</td>\n",
       "      <td>Nan</td>\n",
       "      <td>Jewellery-Women</td>\n",
       "    </tr>\n",
       "    <tr>\n",
       "      <th>30751</th>\n",
       "      <td>19</td>\n",
       "      <td>swarovski</td>\n",
       "      <td>constella stylish crystal white pierced earrings</td>\n",
       "      <td>Nan</td>\n",
       "      <td>Nan</td>\n",
       "      <td>8950</td>\n",
       "      <td>Nan</td>\n",
       "      <td>Jewellery-Women</td>\n",
       "    </tr>\n",
       "    <tr>\n",
       "      <th>30752</th>\n",
       "      <td>20</td>\n",
       "      <td>shaya by caratlane</td>\n",
       "      <td>the wing woman clover charm necklace</td>\n",
       "      <td>Nan</td>\n",
       "      <td>Nan</td>\n",
       "      <td>1250</td>\n",
       "      <td>Nan</td>\n",
       "      <td>Jewellery-Women</td>\n",
       "    </tr>\n",
       "    <tr>\n",
       "      <th>30753</th>\n",
       "      <td>21</td>\n",
       "      <td>swarovski</td>\n",
       "      <td>crystal stylish womens rodhium earrings</td>\n",
       "      <td>Nan</td>\n",
       "      <td>Nan</td>\n",
       "      <td>8950</td>\n",
       "      <td>Nan</td>\n",
       "      <td>Jewellery-Women</td>\n",
       "    </tr>\n",
       "    <tr>\n",
       "      <th>30754</th>\n",
       "      <td>22</td>\n",
       "      <td>Nan</td>\n",
       "      <td>Nan</td>\n",
       "      <td>Nan</td>\n",
       "      <td>Nan</td>\n",
       "      <td>Nan</td>\n",
       "      <td>Nan</td>\n",
       "      <td>Jewellery-Women</td>\n",
       "    </tr>\n",
       "    <tr>\n",
       "      <th>30755</th>\n",
       "      <td>23</td>\n",
       "      <td>jewelz</td>\n",
       "      <td>ethnic gold plated jhumki earrings</td>\n",
       "      <td>Nan</td>\n",
       "      <td>Rs\\n1839</td>\n",
       "      <td>643</td>\n",
       "      <td>65% off</td>\n",
       "      <td>Jewellery-Women</td>\n",
       "    </tr>\n",
       "    <tr>\n",
       "      <th>30756</th>\n",
       "      <td>24</td>\n",
       "      <td>estelle</td>\n",
       "      <td>womens gold plated double line fancy white and...</td>\n",
       "      <td>Nan</td>\n",
       "      <td>Nan</td>\n",
       "      <td>2799</td>\n",
       "      <td>Nan</td>\n",
       "      <td>Jewellery-Women</td>\n",
       "    </tr>\n",
       "    <tr>\n",
       "      <th>30757</th>\n",
       "      <td>25</td>\n",
       "      <td>estelle</td>\n",
       "      <td>womens gold plated bridge designer mangalsutra...</td>\n",
       "      <td>Nan</td>\n",
       "      <td>Nan</td>\n",
       "      <td>1899</td>\n",
       "      <td>Nan</td>\n",
       "      <td>Jewellery-Women</td>\n",
       "    </tr>\n",
       "  </tbody>\n",
       "</table>\n",
       "</div>"
      ],
      "text/plain": [
       "       Unnamed: 0           BrandName  \\\n",
       "30738           6           belleziya   \n",
       "30739           7               clara   \n",
       "30740           8              ayesha   \n",
       "30741           9               clara   \n",
       "30742          10              fossil   \n",
       "30743          11                giva   \n",
       "30744          12        pretty women   \n",
       "30745          13             estelle   \n",
       "30746          14              jewelz   \n",
       "30747          15              ayesha   \n",
       "30748          16              jewelz   \n",
       "30749          17        pretty women   \n",
       "30750          18      tribe amrapali   \n",
       "30751          19           swarovski   \n",
       "30752          20  shaya by caratlane   \n",
       "30753          21           swarovski   \n",
       "30754          22                 Nan   \n",
       "30755          23              jewelz   \n",
       "30756          24             estelle   \n",
       "30757          25             estelle   \n",
       "\n",
       "                                                 Deatils Sizes       MRP  \\\n",
       "30738  combo pack set of 9 gold earrings and set of 3...   Nan       Nan   \n",
       "30739  925 silver real pearl aki pendant with chain n...   Nan  Rs\\n2199   \n",
       "30740  womens metallic silver double drop with black ...   Nan   Rs\\n298   \n",
       "30741  womens 925 sterling silver poppy mangalsutra t...   Nan  Rs\\n2699   \n",
       "30742    vintage motifs multicolor bracelet - jf02854998   Nan       Nan   \n",
       "30743  cubic zirconia silver push back clasp womens e...   Nan  Rs\\n1699   \n",
       "30744             womens jad/pearl golden chain - yellow   Nan   Rs\\n499   \n",
       "30745  womens candy bracelet with white american diam...   Nan       Nan   \n",
       "30746     beautiful white crystal silver plated earrings   Nan  Rs\\n1739   \n",
       "30747  womens metallic gold statement multilayered ch...   Nan   Rs\\n798   \n",
       "30748  nine pieces combo fashion non-precious metal b...   Nan  Rs\\n1339   \n",
       "30749                          womens pearl golden drops   Nan   Rs\\n449   \n",
       "30750           sterling silver oval turquoise ear studs   Nan       Nan   \n",
       "30751   constella stylish crystal white pierced earrings   Nan       Nan   \n",
       "30752               the wing woman clover charm necklace   Nan       Nan   \n",
       "30753            crystal stylish womens rodhium earrings   Nan       Nan   \n",
       "30754                                                Nan   Nan       Nan   \n",
       "30755                 ethnic gold plated jhumki earrings   Nan  Rs\\n1839   \n",
       "30756  womens gold plated double line fancy white and...   Nan       Nan   \n",
       "30757  womens gold plated bridge designer mangalsutra...   Nan       Nan   \n",
       "\n",
       "      SellPrice Discount         Category  \n",
       "30738      1699      Nan  Jewellery-Women  \n",
       "30739      2089   5% off  Jewellery-Women  \n",
       "30740       149  50% off  Jewellery-Women  \n",
       "30741      2564   5% off  Jewellery-Women  \n",
       "30742      4195      Nan  Jewellery-Women  \n",
       "30743      1614   5% off  Jewellery-Women  \n",
       "30744       424  15% off  Jewellery-Women  \n",
       "30745      1299      Nan  Jewellery-Women  \n",
       "30746       608  65% off  Jewellery-Women  \n",
       "30747       399  50% off  Jewellery-Women  \n",
       "30748       468  65% off  Jewellery-Women  \n",
       "30749       381  15% off  Jewellery-Women  \n",
       "30750      1030      Nan  Jewellery-Women  \n",
       "30751      8950      Nan  Jewellery-Women  \n",
       "30752      1250      Nan  Jewellery-Women  \n",
       "30753      8950      Nan  Jewellery-Women  \n",
       "30754       Nan      Nan  Jewellery-Women  \n",
       "30755       643  65% off  Jewellery-Women  \n",
       "30756      2799      Nan  Jewellery-Women  \n",
       "30757      1899      Nan  Jewellery-Women  "
      ]
     },
     "execution_count": 7,
     "metadata": {},
     "output_type": "execute_result"
    }
   ],
   "source": [
    "#last 20 records\n",
    "data.tail(20)"
   ]
  },
  {
   "cell_type": "code",
   "execution_count": 9,
   "id": "07988aae",
   "metadata": {},
   "outputs": [
    {
     "data": {
      "text/plain": [
       "(30758, 8)"
      ]
     },
     "execution_count": 9,
     "metadata": {},
     "output_type": "execute_result"
    }
   ],
   "source": [
    "#to check the number of rows and columns\n",
    "data.shape"
   ]
  },
  {
   "cell_type": "code",
   "execution_count": 11,
   "id": "1e166af8",
   "metadata": {},
   "outputs": [
    {
     "data": {
      "text/plain": [
       "Index(['Unnamed: 0', 'BrandName', 'Deatils', 'Sizes', 'MRP', 'SellPrice',\n",
       "       'Discount', 'Category'],\n",
       "      dtype='object')"
      ]
     },
     "execution_count": 11,
     "metadata": {},
     "output_type": "execute_result"
    }
   ],
   "source": [
    "data.columns"
   ]
  },
  {
   "cell_type": "code",
   "execution_count": 12,
   "id": "69f5010a",
   "metadata": {},
   "outputs": [
    {
     "data": {
      "text/plain": [
       "Unnamed: 0     int64\n",
       "BrandName     object\n",
       "Deatils       object\n",
       "Sizes         object\n",
       "MRP           object\n",
       "SellPrice     object\n",
       "Discount      object\n",
       "Category      object\n",
       "dtype: object"
      ]
     },
     "execution_count": 12,
     "metadata": {},
     "output_type": "execute_result"
    }
   ],
   "source": [
    "#checking datatype of all features\n",
    "data.dtypes"
   ]
  },
  {
   "cell_type": "code",
   "execution_count": 14,
   "id": "236ae628",
   "metadata": {},
   "outputs": [],
   "source": [
    "#dropping unnamed feature\n",
    "data.drop(columns=['Unnamed: 0'],inplace=True)\n",
    "#we use inplace keyword to permanently make changes in the data."
   ]
  },
  {
   "cell_type": "code",
   "execution_count": 16,
   "id": "934230fa",
   "metadata": {},
   "outputs": [
    {
     "data": {
      "text/plain": [
       "Index(['BrandName', 'Deatils', 'Sizes', 'MRP', 'SellPrice', 'Discount',\n",
       "       'Category'],\n",
       "      dtype='object')"
      ]
     },
     "execution_count": 16,
     "metadata": {},
     "output_type": "execute_result"
    }
   ],
   "source": [
    "data.columns"
   ]
  },
  {
   "cell_type": "code",
   "execution_count": 18,
   "id": "ea488fa2",
   "metadata": {},
   "outputs": [
    {
     "data": {
      "text/plain": [
       "BrandName    0\n",
       "Deatils      0\n",
       "Sizes        0\n",
       "MRP          0\n",
       "SellPrice    0\n",
       "Discount     0\n",
       "Category     0\n",
       "dtype: int64"
      ]
     },
     "execution_count": 18,
     "metadata": {},
     "output_type": "execute_result"
    }
   ],
   "source": [
    "#checking missing values\n",
    "data.isnull().sum()\n",
    "#no missing values"
   ]
  },
  {
   "cell_type": "code",
   "execution_count": 20,
   "id": "87337ee7",
   "metadata": {},
   "outputs": [
    {
     "data": {
      "text/html": [
       "<div>\n",
       "<style scoped>\n",
       "    .dataframe tbody tr th:only-of-type {\n",
       "        vertical-align: middle;\n",
       "    }\n",
       "\n",
       "    .dataframe tbody tr th {\n",
       "        vertical-align: top;\n",
       "    }\n",
       "\n",
       "    .dataframe thead th {\n",
       "        text-align: right;\n",
       "    }\n",
       "</style>\n",
       "<table border=\"1\" class=\"dataframe\">\n",
       "  <thead>\n",
       "    <tr style=\"text-align: right;\">\n",
       "      <th></th>\n",
       "      <th>BrandName</th>\n",
       "      <th>Deatils</th>\n",
       "      <th>Sizes</th>\n",
       "      <th>MRP</th>\n",
       "      <th>SellPrice</th>\n",
       "      <th>Discount</th>\n",
       "      <th>Category</th>\n",
       "    </tr>\n",
       "  </thead>\n",
       "  <tbody>\n",
       "    <tr>\n",
       "      <th>count</th>\n",
       "      <td>30758</td>\n",
       "      <td>30758</td>\n",
       "      <td>30758</td>\n",
       "      <td>30758</td>\n",
       "      <td>30758</td>\n",
       "      <td>30758</td>\n",
       "      <td>30758</td>\n",
       "    </tr>\n",
       "    <tr>\n",
       "      <th>unique</th>\n",
       "      <td>275</td>\n",
       "      <td>23877</td>\n",
       "      <td>1172</td>\n",
       "      <td>1097</td>\n",
       "      <td>2046</td>\n",
       "      <td>66</td>\n",
       "      <td>7</td>\n",
       "    </tr>\n",
       "    <tr>\n",
       "      <th>top</th>\n",
       "      <td>vastranand</td>\n",
       "      <td>Nan</td>\n",
       "      <td>Nan</td>\n",
       "      <td>Nan</td>\n",
       "      <td>Nan</td>\n",
       "      <td>Nan</td>\n",
       "      <td>Westernwear-Women</td>\n",
       "    </tr>\n",
       "    <tr>\n",
       "      <th>freq</th>\n",
       "      <td>1543</td>\n",
       "      <td>1183</td>\n",
       "      <td>7501</td>\n",
       "      <td>8208</td>\n",
       "      <td>1183</td>\n",
       "      <td>8208</td>\n",
       "      <td>10374</td>\n",
       "    </tr>\n",
       "  </tbody>\n",
       "</table>\n",
       "</div>"
      ],
      "text/plain": [
       "         BrandName Deatils  Sizes    MRP SellPrice Discount           Category\n",
       "count        30758   30758  30758  30758     30758    30758              30758\n",
       "unique         275   23877   1172   1097      2046       66                  7\n",
       "top     vastranand     Nan    Nan    Nan       Nan      Nan  Westernwear-Women\n",
       "freq          1543    1183   7501   8208      1183     8208              10374"
      ]
     },
     "execution_count": 20,
     "metadata": {},
     "output_type": "execute_result"
    }
   ],
   "source": [
    "data.describe(include='all')"
   ]
  },
  {
   "cell_type": "code",
   "execution_count": 21,
   "id": "42a1555f",
   "metadata": {},
   "outputs": [
    {
     "data": {
      "text/plain": [
       "0        Rs\\n1699\n",
       "1        Rs\\n3499\n",
       "2        Rs\\n1199\n",
       "3        Rs\\n2299\n",
       "4        Rs\\n1699\n",
       "           ...   \n",
       "30753         Nan\n",
       "30754         Nan\n",
       "30755    Rs\\n1839\n",
       "30756         Nan\n",
       "30757         Nan\n",
       "Name: MRP, Length: 30758, dtype: object"
      ]
     },
     "execution_count": 21,
     "metadata": {},
     "output_type": "execute_result"
    }
   ],
   "source": [
    "data['MRP'] \n",
    "#data.MRP"
   ]
  },
  {
   "cell_type": "markdown",
   "id": "7ada8b95",
   "metadata": {},
   "source": [
    "### the rs\\n is not required and we need to convert from object type to int value"
   ]
  },
  {
   "cell_type": "code",
   "execution_count": 22,
   "id": "f05a5bb7",
   "metadata": {},
   "outputs": [],
   "source": [
    "data['MRP']=data['MRP'].str.replace('Rs\\n','')"
   ]
  },
  {
   "cell_type": "code",
   "execution_count": 23,
   "id": "02a8fbd9",
   "metadata": {},
   "outputs": [
    {
     "data": {
      "text/plain": [
       "0        1699\n",
       "1        3499\n",
       "2        1199\n",
       "3        2299\n",
       "4        1699\n",
       "         ... \n",
       "30753     Nan\n",
       "30754     Nan\n",
       "30755    1839\n",
       "30756     Nan\n",
       "30757     Nan\n",
       "Name: MRP, Length: 30758, dtype: object"
      ]
     },
     "execution_count": 23,
     "metadata": {},
     "output_type": "execute_result"
    }
   ],
   "source": [
    "data['MRP']"
   ]
  },
  {
   "cell_type": "code",
   "execution_count": 24,
   "id": "50a50d89",
   "metadata": {},
   "outputs": [
    {
     "data": {
      "text/plain": [
       "BrandName    object\n",
       "Deatils      object\n",
       "Sizes        object\n",
       "MRP          object\n",
       "SellPrice    object\n",
       "Discount     object\n",
       "Category     object\n",
       "dtype: object"
      ]
     },
     "execution_count": 24,
     "metadata": {},
     "output_type": "execute_result"
    }
   ],
   "source": [
    "data.dtypes\n",
    "#but datatype of MRP is still object"
   ]
  },
  {
   "cell_type": "code",
   "execution_count": null,
   "id": "264bcd50",
   "metadata": {},
   "outputs": [],
   "source": [
    "'''\n",
    "data['MRP']=data['MRP'].astype(int)\n",
    "#even selling price having object type doesn't make sense\n",
    "data['SellPrice']=data['SellPrice'].astype(int)\n",
    "'''\n",
    "#above code won't work as some values are NaN\n",
    "#so let's replace nan values "
   ]
  },
  {
   "cell_type": "code",
   "execution_count": 27,
   "id": "7cba5f2b",
   "metadata": {},
   "outputs": [],
   "source": [
    "data.replace('Nan',np.nan,inplace=True)\n",
    "data.dropna(axis=0,inplace=True)"
   ]
  },
  {
   "cell_type": "code",
   "execution_count": 28,
   "id": "86fd40c3",
   "metadata": {},
   "outputs": [],
   "source": [
    "data['MRP']=data['MRP'].astype(int)\n",
    "#even selling price having object type doesn't make sense\n",
    "data['SellPrice']=data['SellPrice'].astype(int)"
   ]
  },
  {
   "cell_type": "code",
   "execution_count": 29,
   "id": "b6b6c4e1",
   "metadata": {},
   "outputs": [
    {
     "data": {
      "text/plain": [
       "BrandName    object\n",
       "Deatils      object\n",
       "Sizes        object\n",
       "MRP           int32\n",
       "SellPrice     int32\n",
       "Discount     object\n",
       "Category     object\n",
       "dtype: object"
      ]
     },
     "execution_count": 29,
     "metadata": {},
     "output_type": "execute_result"
    }
   ],
   "source": [
    "data.dtypes"
   ]
  },
  {
   "cell_type": "code",
   "execution_count": 31,
   "id": "b2fc16aa",
   "metadata": {},
   "outputs": [
    {
     "data": {
      "text/html": [
       "<div>\n",
       "<style scoped>\n",
       "    .dataframe tbody tr th:only-of-type {\n",
       "        vertical-align: middle;\n",
       "    }\n",
       "\n",
       "    .dataframe tbody tr th {\n",
       "        vertical-align: top;\n",
       "    }\n",
       "\n",
       "    .dataframe thead th {\n",
       "        text-align: right;\n",
       "    }\n",
       "</style>\n",
       "<table border=\"1\" class=\"dataframe\">\n",
       "  <thead>\n",
       "    <tr style=\"text-align: right;\">\n",
       "      <th></th>\n",
       "      <th>MRP</th>\n",
       "      <th>SellPrice</th>\n",
       "    </tr>\n",
       "  </thead>\n",
       "  <tbody>\n",
       "    <tr>\n",
       "      <th>count</th>\n",
       "      <td>18374.000000</td>\n",
       "      <td>18374.000000</td>\n",
       "    </tr>\n",
       "    <tr>\n",
       "      <th>mean</th>\n",
       "      <td>2136.928704</td>\n",
       "      <td>1163.798846</td>\n",
       "    </tr>\n",
       "    <tr>\n",
       "      <th>std</th>\n",
       "      <td>1189.416850</td>\n",
       "      <td>744.201506</td>\n",
       "    </tr>\n",
       "    <tr>\n",
       "      <th>min</th>\n",
       "      <td>171.000000</td>\n",
       "      <td>114.000000</td>\n",
       "    </tr>\n",
       "    <tr>\n",
       "      <th>25%</th>\n",
       "      <td>1299.000000</td>\n",
       "      <td>659.000000</td>\n",
       "    </tr>\n",
       "    <tr>\n",
       "      <th>50%</th>\n",
       "      <td>1899.000000</td>\n",
       "      <td>995.000000</td>\n",
       "    </tr>\n",
       "    <tr>\n",
       "      <th>75%</th>\n",
       "      <td>2663.000000</td>\n",
       "      <td>1469.000000</td>\n",
       "    </tr>\n",
       "    <tr>\n",
       "      <th>max</th>\n",
       "      <td>16999.000000</td>\n",
       "      <td>13599.000000</td>\n",
       "    </tr>\n",
       "  </tbody>\n",
       "</table>\n",
       "</div>"
      ],
      "text/plain": [
       "                MRP     SellPrice\n",
       "count  18374.000000  18374.000000\n",
       "mean    2136.928704   1163.798846\n",
       "std     1189.416850    744.201506\n",
       "min      171.000000    114.000000\n",
       "25%     1299.000000    659.000000\n",
       "50%     1899.000000    995.000000\n",
       "75%     2663.000000   1469.000000\n",
       "max    16999.000000  13599.000000"
      ]
     },
     "execution_count": 31,
     "metadata": {},
     "output_type": "execute_result"
    }
   ],
   "source": [
    "data.describe()"
   ]
  },
  {
   "cell_type": "code",
   "execution_count": 33,
   "id": "8bf11ad5",
   "metadata": {},
   "outputs": [
    {
     "data": {
      "text/plain": [
       "Westernwear-Women           8221\n",
       "Indianwear-Women            6428\n",
       "Lingerie&Nightwear-Women    2084\n",
       "Footwear-Women              1638\n",
       "Watches-Women                  3\n",
       "Name: Category, dtype: int64"
      ]
     },
     "execution_count": 33,
     "metadata": {},
     "output_type": "execute_result"
    }
   ],
   "source": [
    "#to display different categories in the dataset\n",
    "data['Category'].value_counts()"
   ]
  },
  {
   "cell_type": "code",
   "execution_count": 34,
   "id": "0761bdb2",
   "metadata": {},
   "outputs": [
    {
     "data": {
      "text/plain": [
       "(18374, 7)"
      ]
     },
     "execution_count": 34,
     "metadata": {},
     "output_type": "execute_result"
    }
   ],
   "source": [
    "data.shape"
   ]
  },
  {
   "cell_type": "code",
   "execution_count": 35,
   "id": "7254797c",
   "metadata": {},
   "outputs": [
    {
     "data": {
      "text/plain": [
       "<AxesSubplot:>"
      ]
     },
     "execution_count": 35,
     "metadata": {},
     "output_type": "execute_result"
    },
    {
     "data": {
      "image/png": "[encoded data removed]",
      "text/plain": [
       "<Figure size 432x288 with 1 Axes>"
      ]
     },
     "metadata": {
      "needs_background": "light"
     },
     "output_type": "display_data"
    }
   ],
   "source": [
    "data['Category'].value_counts().plot(kind='bar')"
   ]
  },
  {
   "cell_type": "code",
   "execution_count": 37,
   "id": "25616fef",
   "metadata": {},
   "outputs": [
    {
     "data": {
      "text/plain": [
       "<AxesSubplot:>"
      ]
     },
     "execution_count": 37,
     "metadata": {},
     "output_type": "execute_result"
    },
    {
     "data": {
      "image/png": "[encoded data removed]",
      "text/plain": [
       "<Figure size 432x288 with 1 Axes>"
      ]
     },
     "metadata": {
      "needs_background": "light"
     },
     "output_type": "display_data"
    }
   ],
   "source": [
    "#data['Discount'].value_counts().plot(kind='bar')\n",
    "#too much data. Let's take top 10 rows\n",
    "data['Discount'].value_counts().head().plot(kind='bar')"
   ]
  },
  {
   "cell_type": "code",
   "execution_count": 41,
   "id": "42317e21",
   "metadata": {},
   "outputs": [
    {
     "name": "stdout",
     "output_type": "stream",
     "text": [
      "         BrandName  SellPrice          Category\n",
      "15744  global desi      13599  Indianwear-Women\n",
      "14154  global desi      12799  Indianwear-Women\n",
      "18629            w       7499  Indianwear-Women\n",
      "24281  new balance       6999    Footwear-Women\n",
      "24641  new balance       6999    Footwear-Women\n",
      "25635  new balance       6999    Footwear-Women\n",
      "24742  new balance       6999    Footwear-Women\n",
      "14053            w       6749  Indianwear-Women\n",
      "16718            w       6749  Indianwear-Women\n",
      "15053            w       6749  Indianwear-Women\n"
     ]
    }
   ],
   "source": [
    "#highest selling price for top 10 records\n",
    "high_sp=data[['BrandName','SellPrice','Category']].sort_values(by=\"SellPrice\",ascending=False).head(10)\n",
    "print(high_sp)"
   ]
  },
  {
   "cell_type": "code",
   "execution_count": 44,
   "id": "5de3d841",
   "metadata": {},
   "outputs": [
    {
     "data": {
      "text/plain": [
       "<AxesSubplot:>"
      ]
     },
     "execution_count": 44,
     "metadata": {},
     "output_type": "execute_result"
    },
    {
     "data": {
      "image/png": "[encoded data removed]",
      "text/plain": [
       "<Figure size 1440x1440 with 1 Axes>"
      ]
     },
     "metadata": {
      "needs_background": "light"
     },
     "output_type": "display_data"
    }
   ],
   "source": [
    "fig,ax=plt.subplots(figsize=(20,20))\n",
    "sns.boxplot(data=data,ax=ax)"
   ]
  },
  {
   "cell_type": "code",
   "execution_count": 45,
   "id": "d5df4d6d",
   "metadata": {},
   "outputs": [
    {
     "name": "stderr",
     "output_type": "stream",
     "text": [
      "C:\\Users\\Vikas Velmurugan\\anaconda3\\lib\\site-packages\\seaborn\\distributions.py:2619: FutureWarning: `distplot` is a deprecated function and will be removed in a future version. Please adapt your code to use either `displot` (a figure-level function with similar flexibility) or `histplot` (an axes-level function for histograms).\n",
      "  warnings.warn(msg, FutureWarning)\n"
     ]
    },
    {
     "data": {
      "text/plain": [
       "<AxesSubplot:xlabel='MRP', ylabel='Density'>"
      ]
     },
     "execution_count": 45,
     "metadata": {},
     "output_type": "execute_result"
    },
    {
     "data": {
      "image/png": "[encoded data removed]",
      "text/plain": [
       "<Figure size 432x288 with 1 Axes>"
      ]
     },
     "metadata": {
      "needs_background": "light"
     },
     "output_type": "display_data"
    }
   ],
   "source": [
    "#to check distribution\n",
    "sns.distplot(data.MRP)\n",
    "\n",
    "#this is left skewed"
   ]
  },
  {
   "cell_type": "code",
   "execution_count": null,
   "id": "6d3a1299",
   "metadata": {},
   "outputs": [],
   "source": []
  }
 ],
 "metadata": {
  "kernelspec": {
   "display_name": "Python 3 (ipykernel)",
   "language": "python",
   "name": "python3"
  },
  "language_info": {
   "codemirror_mode": {
    "name": "ipython",
    "version": 3
   },
   "file_extension": ".py",
   "mimetype": "text/x-python",
   "name": "python",
   "nbconvert_exporter": "python",
   "pygments_lexer": "ipython3",
   "version": "3.9.12"
  }
 },
 "nbformat": 4,
 "nbformat_minor": 5
}
